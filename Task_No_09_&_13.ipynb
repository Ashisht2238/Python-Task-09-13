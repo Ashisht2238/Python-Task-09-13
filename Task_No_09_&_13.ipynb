{
  "nbformat": 4,
  "nbformat_minor": 0,
  "metadata": {
    "colab": {
      "provenance": [],
      "authorship_tag": "ABX9TyPmzBV7efP8U6dSQwTKXAqO",
      "include_colab_link": true
    },
    "kernelspec": {
      "name": "python3",
      "display_name": "Python 3"
    },
    "language_info": {
      "name": "python"
    }
  },
  "cells": [
    {
      "cell_type": "markdown",
      "metadata": {
        "id": "view-in-github",
        "colab_type": "text"
      },
      "source": [
        "<a href=\"https://colab.research.google.com/github/Ashisht2238/Python-Task-09-13/blob/main/Task_No_09_%26_13.ipynb\" target=\"_parent\"><img src=\"https://colab.research.google.com/assets/colab-badge.svg\" alt=\"Open In Colab\"/></a>"
      ]
    },
    {
      "cell_type": "code",
      "source": [
        "          #Task No 09\n",
        "\n",
        "from statistics import mean, median, mode\n",
        "\n",
        "def calculate_statistics(data):\n",
        "\n",
        "    data_mean = mean(data)\n",
        "    data_median = median(data)\n",
        "    data_mode = mode(data)\n",
        "\n",
        "    return data_mean, data_median, data_mode\n",
        "\n",
        "\n",
        "data = [1, 2, 2, 3, 4]\n",
        "data_mean, data_median, data_mode = calculate_statistics(data)\n",
        "\n",
        "print(f\"Mean: {data_mean}\")\n",
        "print(f\"Median: {data_median}\")\n",
        "print(f\"Mode: {data_mode}\")"
      ],
      "metadata": {
        "colab": {
          "base_uri": "https://localhost:8080/"
        },
        "id": "poakN0DKDZ0J",
        "outputId": "6c0b6675-65cc-485f-ace3-917b34e675c3"
      },
      "execution_count": 2,
      "outputs": [
        {
          "output_type": "stream",
          "name": "stdout",
          "text": [
            "Mean: 2.4\n",
            "Median: 2\n",
            "Mode: 2\n"
          ]
        }
      ]
    },
    {
      "cell_type": "code",
      "execution_count": 1,
      "metadata": {
        "colab": {
          "base_uri": "https://localhost:8080/"
        },
        "id": "cHpnhqVRAigc",
        "outputId": "5fa3b8bb-1a39-4c44-d19c-0d0f606f09de"
      },
      "outputs": [
        {
          "output_type": "stream",
          "name": "stdout",
          "text": [
            "Found at index 3\n"
          ]
        }
      ],
      "source": [
        "           #Task No 13\n",
        "\n",
        "def binary_search(arr, target):\n",
        "    left = 0\n",
        "    right = len(arr) - 1\n",
        "\n",
        "    while left <= right:\n",
        "        mid = left + (right - left) // 2\n",
        "\n",
        "        if arr[mid] == target:\n",
        "            return f\"Found at index {mid}\"\n",
        "        elif arr[mid] < target:\n",
        "            left = mid + 1\n",
        "        else:\n",
        "            right = mid - 1\n",
        "\n",
        "    return \"Not found\"\n",
        "\n",
        "\n",
        "arr = [1, 3, 5, 7, 9]\n",
        "target = 7\n",
        "\n",
        "result = binary_search(arr, target)\n",
        "print(result)"
      ]
    },
    {
      "cell_type": "code",
      "source": [
        ""
      ],
      "metadata": {
        "id": "ulofYmEpDRrD"
      },
      "execution_count": null,
      "outputs": []
    }
  ]
}